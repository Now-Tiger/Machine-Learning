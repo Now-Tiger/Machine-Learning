{
 "cells": [
  {
   "cell_type": "markdown",
   "id": "e5d75ebf",
   "metadata": {},
   "source": [
    "The __$Binary-logistic$__ __$regression$__ class is defined below. First, it (optionally) standardizes and adds an intercept term.\n",
    "Then it estimates with gradient descent, using the gradient of the negative log-likelihood derived in the concept\n",
    "section"
   ]
  },
  {
   "cell_type": "code",
   "execution_count": 12,
   "id": "0e24390e",
   "metadata": {},
   "outputs": [],
   "source": [
    "import numpy as np\n",
    "from sklearn import datasets\n",
    "import matplotlib.pyplot as plt\n",
    "from warnings import filterwarnings\n",
    "import seaborn as sns\n",
    "filterwarnings('ignore')\n",
    "plt.style.use('seaborn-whitegrid')"
   ]
  },
  {
   "cell_type": "code",
   "execution_count": 5,
   "id": "912d36d3",
   "metadata": {},
   "outputs": [],
   "source": [
    "# ---- import data ----\n",
    "cancer = datasets.load_breast_cancer()\n",
    "X = cancer['data']\n",
    "y = cancer['target']"
   ]
  },
  {
   "cell_type": "markdown",
   "id": "43ef935e",
   "metadata": {},
   "source": [
    "Let’s first define some helper functions: the logistic function and a standardization function, equivalent __$scikitlearn’s$__ __$StandardScaler$__"
   ]
  },
  {
   "cell_type": "code",
   "execution_count": 1,
   "id": "1ec808d8",
   "metadata": {},
   "outputs": [],
   "source": [
    "def logistic(z) :\n",
    "    return (1 + np.exp(-z))**(-1)\n",
    "\n",
    "def standard_scaler(X) :\n",
    "    mean = X.mean(0)\n",
    "    std = X.std(0)\n",
    "    return (X - mean)/std"
   ]
  },
  {
   "cell_type": "code",
   "execution_count": 7,
   "id": "0fd880c7",
   "metadata": {},
   "outputs": [],
   "source": [
    "class BinaryLogisticRegression :\n",
    "    def fit(self, X, y, n_iter, lr, standardize = True, has_intercept = False) -> None :\n",
    "        if standardize : \n",
    "            X = standard_scaler(X)\n",
    "        if not has_intercept :\n",
    "            ones = np.ones(X.shape[0]).reshape(-1, 1)\n",
    "            X = np.concatenate((ones, X), axis = 1)\n",
    "        self.X = X\n",
    "        self.N, self.D = X.shape\n",
    "        self.y = y\n",
    "        self.n_iter = n_iter\n",
    "        self.lr = lr\n",
    "        \n",
    "        # ----- Calculate beta -----\n",
    "        beta = np.random.randn(self.D)\n",
    "        for i in range(n_iter) :\n",
    "            # ---- vector of probabilities ----\n",
    "            p = logistic(np.dot(self.X, beta))\n",
    "            # -----  gradient -----\n",
    "            gradient = -np.dot(self.X.T, (self.y - p))\n",
    "            beta -= self.lr * gradient\n",
    "            \n",
    "        # ---- return values ------\n",
    "        self.beta = beta \n",
    "        self.p = logistic(np.dot(self.X, self.beta))\n",
    "        self.yhat = self.p.round()"
   ]
  },
  {
   "cell_type": "code",
   "execution_count": 8,
   "id": "0abc832c",
   "metadata": {},
   "outputs": [
    {
     "name": "stdout",
     "output_type": "stream",
     "text": [
      "In-sample accuracy : 0.9876977152899824 \n"
     ]
    }
   ],
   "source": [
    "binary_model = BinaryLogisticRegression()\n",
    "binary_model.fit(X, y, n_iter = 10**4, lr = .0001)\n",
    "print(f\"In-sample accuracy : {str(np.mean(binary_model.yhat == binary_model.y))} \")"
   ]
  },
  {
   "cell_type": "code",
   "execution_count": null,
   "id": "99463ca4",
   "metadata": {},
   "outputs": [],
   "source": []
  },
  {
   "cell_type": "code",
   "execution_count": 13,
   "id": "b6a0c137",
   "metadata": {},
   "outputs": [
    {
     "data": {
      "image/png": "[encoded data removed]",
      "text/plain": [
       "<Figure size 432x288 with 1 Axes>"
      ]
     },
     "metadata": {},
     "output_type": "display_data"
    }
   ],
   "source": [
    "fig, ax = plt.subplots()\n",
    "sns.distplot(binary_model.p[binary_model.yhat == 0], kde = False, bins = 8, \n",
    "            label = 'Class 0', color = 'cornflowerblue')\n",
    "sns.distplot(binary_model.p[binary_model.yhat == 1], kde = False, bins = 8, \n",
    "             label = 'Class 1', color = 'darkblue')\n",
    "ax.legend(loc = 9, bbox_to_anchor = (0, 0, 1.59, .9))\n",
    "ax.set_title(r'Estimated $p(Y_n = 1)$', size = 14)\n",
    "ax.set_title(r'Estimated $p(Y_n = 1)$ by True Class', size = 16)\n",
    "sns.despine()"
   ]
  },
  {
   "cell_type": "code",
   "execution_count": null,
   "id": "3e625b1e",
   "metadata": {},
   "outputs": [],
   "source": []
  }
 ],
 "metadata": {
  "kernelspec": {
   "display_name": "Python 3",
   "language": "python",
   "name": "python3"
  },
  "language_info": {
   "codemirror_mode": {
    "name": "ipython",
    "version": 3
   },
   "file_extension": ".py",
   "mimetype": "text/x-python",
   "name": "python",
   "nbconvert_exporter": "python",
   "pygments_lexer": "ipython3",
   "version": "3.8.12"
  }
 },
 "nbformat": 4,
 "nbformat_minor": 5
}
